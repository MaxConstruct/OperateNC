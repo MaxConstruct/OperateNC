{
 "cells": [
  {
   "cell_type": "code",
   "execution_count": null,
   "metadata": {
    "collapsed": true,
    "pycharm": {
     "is_executing": true
    }
   },
   "outputs": [],
   "source": [
    "from pathlib import Path\n",
    "\n",
    "import pandas as pd\n",
    "import xarray as xr\n",
    "import numpy as np\n",
    "import util.netcdf_util as ut\n",
    "import matplotlib.pyplot as plt"
   ]
  },
  {
   "cell_type": "code",
   "execution_count": 2,
   "outputs": [],
   "source": [
    "# cru = xr.load_dataarray(r'H:\\Observation\\Cleaned Data\\tmean\\monthly 1998-2014\\cru_tmean_monthly_1998_2014.nc')\n",
    "cru = xr.load_dataarray(r'H:\\Observation\\Cleaned Data\\pr\\mean annual 1998-2014\\cru_pr_annual_1998_2014.nc')\n",
    "cru_mean = cru.mean()"
   ],
   "metadata": {
    "collapsed": false,
    "pycharm": {
     "name": "#%%\n"
    }
   }
  },
  {
   "cell_type": "code",
   "execution_count": null,
   "outputs": [],
   "source": [
    "def get_mfds(paths, check_inf=True):\n",
    "    mf = []\n",
    "    for i, p in enumerate(paths):\n",
    "        mf.append(xr.open_dataarray(p).assign_coords(time=pd.date_range('')))\n",
    "    con = xr.concat(mf, dim='id')\n",
    "    return con"
   ],
   "metadata": {
    "collapsed": false,
    "pycharm": {
     "name": "#%%\n"
    }
   }
  },
  {
   "cell_type": "code",
   "execution_count": 3,
   "outputs": [
    {
     "ename": "TypeError",
     "evalue": "cannot compare cftime.DatetimeNoLeap(1998-01-01 12:00:00) and Timestamp('1998-01-01 12:00:00') (different calendars)",
     "output_type": "error",
     "traceback": [
      "\u001B[1;31m---------------------------------------------------------------------------\u001B[0m",
      "\u001B[1;31mTypeError\u001B[0m                                 Traceback (most recent call last)",
      "\u001B[1;32m<ipython-input-3-3dfd1a0542ce>\u001B[0m in \u001B[0;36m<module>\u001B[1;34m\u001B[0m\n\u001B[0;32m      6\u001B[0m \u001B[0mssp585_pr\u001B[0m \u001B[1;33m=\u001B[0m \u001B[0mut\u001B[0m\u001B[1;33m.\u001B[0m\u001B[0mlsdir\u001B[0m\u001B[1;33m(\u001B[0m\u001B[1;34mr'H:\\CMIP6 - SEA\\Cleaned\\ssp585\\decode_cmip_pr_ssp585_2015_2100_noleap'\u001B[0m\u001B[1;33m)\u001B[0m\u001B[1;33m\u001B[0m\u001B[1;33m\u001B[0m\u001B[0m\n\u001B[0;32m      7\u001B[0m \u001B[1;33m\u001B[0m\u001B[0m\n\u001B[1;32m----> 8\u001B[1;33m \u001B[0mhist\u001B[0m \u001B[1;33m=\u001B[0m \u001B[0mut\u001B[0m\u001B[1;33m.\u001B[0m\u001B[0mget_mfds\u001B[0m\u001B[1;33m(\u001B[0m\u001B[0mhist_pr\u001B[0m\u001B[1;33m)\u001B[0m\u001B[1;33m\u001B[0m\u001B[1;33m\u001B[0m\u001B[0m\n\u001B[0m\u001B[0;32m      9\u001B[0m \u001B[0mssp245\u001B[0m \u001B[1;33m=\u001B[0m \u001B[0mut\u001B[0m\u001B[1;33m.\u001B[0m\u001B[0mget_mfds\u001B[0m\u001B[1;33m(\u001B[0m\u001B[0mssp245_pr\u001B[0m\u001B[1;33m)\u001B[0m\u001B[1;33m\u001B[0m\u001B[1;33m\u001B[0m\u001B[0m\n\u001B[0;32m     10\u001B[0m \u001B[0mssp585\u001B[0m \u001B[1;33m=\u001B[0m \u001B[0mut\u001B[0m\u001B[1;33m.\u001B[0m\u001B[0mget_mfds\u001B[0m\u001B[1;33m(\u001B[0m\u001B[0mssp585_pr\u001B[0m\u001B[1;33m)\u001B[0m\u001B[1;33m\u001B[0m\u001B[1;33m\u001B[0m\u001B[0m\n",
      "\u001B[1;32m~\\PycharmProjects\\NCFile\\util\\netcdf_util.py\u001B[0m in \u001B[0;36mget_mfds\u001B[1;34m(paths, check_inf)\u001B[0m\n\u001B[0;32m    269\u001B[0m     \u001B[1;32mfor\u001B[0m \u001B[0mi\u001B[0m\u001B[1;33m,\u001B[0m \u001B[0mp\u001B[0m \u001B[1;32min\u001B[0m \u001B[0menumerate\u001B[0m\u001B[1;33m(\u001B[0m\u001B[0mpaths\u001B[0m\u001B[1;33m)\u001B[0m\u001B[1;33m:\u001B[0m\u001B[1;33m\u001B[0m\u001B[1;33m\u001B[0m\u001B[0m\n\u001B[0;32m    270\u001B[0m         \u001B[0mmf\u001B[0m\u001B[1;33m.\u001B[0m\u001B[0mappend\u001B[0m\u001B[1;33m(\u001B[0m\u001B[0mxr\u001B[0m\u001B[1;33m.\u001B[0m\u001B[0mopen_dataarray\u001B[0m\u001B[1;33m(\u001B[0m\u001B[0mp\u001B[0m\u001B[1;33m)\u001B[0m\u001B[1;33m)\u001B[0m\u001B[1;33m\u001B[0m\u001B[1;33m\u001B[0m\u001B[0m\n\u001B[1;32m--> 271\u001B[1;33m     \u001B[0mcon\u001B[0m \u001B[1;33m=\u001B[0m \u001B[0mxr\u001B[0m\u001B[1;33m.\u001B[0m\u001B[0mconcat\u001B[0m\u001B[1;33m(\u001B[0m\u001B[0mmf\u001B[0m\u001B[1;33m,\u001B[0m \u001B[0mdim\u001B[0m\u001B[1;33m=\u001B[0m\u001B[1;34m'id'\u001B[0m\u001B[1;33m)\u001B[0m\u001B[1;33m\u001B[0m\u001B[1;33m\u001B[0m\u001B[0m\n\u001B[0m\u001B[0;32m    272\u001B[0m     \u001B[1;32mif\u001B[0m \u001B[0mcheck_inf\u001B[0m\u001B[1;33m:\u001B[0m\u001B[1;33m\u001B[0m\u001B[1;33m\u001B[0m\u001B[0m\n\u001B[0;32m    273\u001B[0m         \u001B[1;32mreturn\u001B[0m \u001B[0mcon\u001B[0m\u001B[1;33m.\u001B[0m\u001B[0mwhere\u001B[0m\u001B[1;33m(\u001B[0m\u001B[1;33m~\u001B[0m\u001B[0mnp\u001B[0m\u001B[1;33m.\u001B[0m\u001B[0misinf\u001B[0m\u001B[1;33m(\u001B[0m\u001B[0mcon\u001B[0m\u001B[1;33m)\u001B[0m\u001B[1;33m)\u001B[0m\u001B[1;33m\u001B[0m\u001B[1;33m\u001B[0m\u001B[0m\n",
      "\u001B[1;32m~\\Anaconda3\\envs\\NCFile\\lib\\site-packages\\xarray\\core\\concat.py\u001B[0m in \u001B[0;36mconcat\u001B[1;34m(objs, dim, data_vars, coords, compat, positions, fill_value, join, combine_attrs)\u001B[0m\n\u001B[0;32m    190\u001B[0m         )\n\u001B[0;32m    191\u001B[0m     return f(\n\u001B[1;32m--> 192\u001B[1;33m         \u001B[0mobjs\u001B[0m\u001B[1;33m,\u001B[0m \u001B[0mdim\u001B[0m\u001B[1;33m,\u001B[0m \u001B[0mdata_vars\u001B[0m\u001B[1;33m,\u001B[0m \u001B[0mcoords\u001B[0m\u001B[1;33m,\u001B[0m \u001B[0mcompat\u001B[0m\u001B[1;33m,\u001B[0m \u001B[0mpositions\u001B[0m\u001B[1;33m,\u001B[0m \u001B[0mfill_value\u001B[0m\u001B[1;33m,\u001B[0m \u001B[0mjoin\u001B[0m\u001B[1;33m,\u001B[0m \u001B[0mcombine_attrs\u001B[0m\u001B[1;33m\u001B[0m\u001B[1;33m\u001B[0m\u001B[0m\n\u001B[0m\u001B[0;32m    193\u001B[0m     )\n\u001B[0;32m    194\u001B[0m \u001B[1;33m\u001B[0m\u001B[0m\n",
      "\u001B[1;32m~\\Anaconda3\\envs\\NCFile\\lib\\site-packages\\xarray\\core\\concat.py\u001B[0m in \u001B[0;36m_dataarray_concat\u001B[1;34m(arrays, dim, data_vars, coords, compat, positions, fill_value, join, combine_attrs)\u001B[0m\n\u001B[0;32m    525\u001B[0m         \u001B[0mfill_value\u001B[0m\u001B[1;33m=\u001B[0m\u001B[0mfill_value\u001B[0m\u001B[1;33m,\u001B[0m\u001B[1;33m\u001B[0m\u001B[1;33m\u001B[0m\u001B[0m\n\u001B[0;32m    526\u001B[0m         \u001B[0mjoin\u001B[0m\u001B[1;33m=\u001B[0m\u001B[0mjoin\u001B[0m\u001B[1;33m,\u001B[0m\u001B[1;33m\u001B[0m\u001B[1;33m\u001B[0m\u001B[0m\n\u001B[1;32m--> 527\u001B[1;33m         \u001B[0mcombine_attrs\u001B[0m\u001B[1;33m=\u001B[0m\u001B[1;34m\"drop\"\u001B[0m\u001B[1;33m,\u001B[0m\u001B[1;33m\u001B[0m\u001B[1;33m\u001B[0m\u001B[0m\n\u001B[0m\u001B[0;32m    528\u001B[0m     )\n\u001B[0;32m    529\u001B[0m \u001B[1;33m\u001B[0m\u001B[0m\n",
      "\u001B[1;32m~\\Anaconda3\\envs\\NCFile\\lib\\site-packages\\xarray\\core\\concat.py\u001B[0m in \u001B[0;36m_dataset_concat\u001B[1;34m(datasets, dim, data_vars, coords, compat, positions, fill_value, join, combine_attrs)\u001B[0m\n\u001B[0;32m    382\u001B[0m     \u001B[0mdatasets\u001B[0m \u001B[1;33m=\u001B[0m \u001B[1;33m[\u001B[0m\u001B[0mds\u001B[0m\u001B[1;33m.\u001B[0m\u001B[0mcopy\u001B[0m\u001B[1;33m(\u001B[0m\u001B[1;33m)\u001B[0m \u001B[1;32mfor\u001B[0m \u001B[0mds\u001B[0m \u001B[1;32min\u001B[0m \u001B[0mdatasets\u001B[0m\u001B[1;33m]\u001B[0m\u001B[1;33m\u001B[0m\u001B[1;33m\u001B[0m\u001B[0m\n\u001B[0;32m    383\u001B[0m     datasets = align(\n\u001B[1;32m--> 384\u001B[1;33m         \u001B[1;33m*\u001B[0m\u001B[0mdatasets\u001B[0m\u001B[1;33m,\u001B[0m \u001B[0mjoin\u001B[0m\u001B[1;33m=\u001B[0m\u001B[0mjoin\u001B[0m\u001B[1;33m,\u001B[0m \u001B[0mcopy\u001B[0m\u001B[1;33m=\u001B[0m\u001B[1;32mFalse\u001B[0m\u001B[1;33m,\u001B[0m \u001B[0mexclude\u001B[0m\u001B[1;33m=\u001B[0m\u001B[1;33m[\u001B[0m\u001B[0mdim\u001B[0m\u001B[1;33m]\u001B[0m\u001B[1;33m,\u001B[0m \u001B[0mfill_value\u001B[0m\u001B[1;33m=\u001B[0m\u001B[0mfill_value\u001B[0m\u001B[1;33m\u001B[0m\u001B[1;33m\u001B[0m\u001B[0m\n\u001B[0m\u001B[0;32m    385\u001B[0m     )\n\u001B[0;32m    386\u001B[0m \u001B[1;33m\u001B[0m\u001B[0m\n",
      "\u001B[1;32m~\\Anaconda3\\envs\\NCFile\\lib\\site-packages\\xarray\\core\\alignment.py\u001B[0m in \u001B[0;36malign\u001B[1;34m(join, copy, indexes, exclude, fill_value, *objects)\u001B[0m\n\u001B[0;32m    305\u001B[0m                 \u001B[1;32mif\u001B[0m \u001B[0mjoin\u001B[0m \u001B[1;33m==\u001B[0m \u001B[1;34m\"exact\"\u001B[0m\u001B[1;33m:\u001B[0m\u001B[1;33m\u001B[0m\u001B[1;33m\u001B[0m\u001B[0m\n\u001B[0;32m    306\u001B[0m                     \u001B[1;32mraise\u001B[0m \u001B[0mValueError\u001B[0m\u001B[1;33m(\u001B[0m\u001B[1;34mf\"indexes along dimension {dim!r} are not equal\"\u001B[0m\u001B[1;33m)\u001B[0m\u001B[1;33m\u001B[0m\u001B[1;33m\u001B[0m\u001B[0m\n\u001B[1;32m--> 307\u001B[1;33m                 \u001B[0mindex\u001B[0m \u001B[1;33m=\u001B[0m \u001B[0mjoiner\u001B[0m\u001B[1;33m(\u001B[0m\u001B[0mmatching_indexes\u001B[0m\u001B[1;33m)\u001B[0m\u001B[1;33m\u001B[0m\u001B[1;33m\u001B[0m\u001B[0m\n\u001B[0m\u001B[0;32m    308\u001B[0m                 \u001B[0mjoined_indexes\u001B[0m\u001B[1;33m[\u001B[0m\u001B[0mdim\u001B[0m\u001B[1;33m]\u001B[0m \u001B[1;33m=\u001B[0m \u001B[0mindex\u001B[0m\u001B[1;33m\u001B[0m\u001B[1;33m\u001B[0m\u001B[0m\n\u001B[0;32m    309\u001B[0m             \u001B[1;32melse\u001B[0m\u001B[1;33m:\u001B[0m\u001B[1;33m\u001B[0m\u001B[1;33m\u001B[0m\u001B[0m\n",
      "\u001B[1;32m~\\Anaconda3\\envs\\NCFile\\lib\\site-packages\\pandas\\core\\indexes\\base.py\u001B[0m in \u001B[0;36m__or__\u001B[1;34m(self, other)\u001B[0m\n\u001B[0;32m   2141\u001B[0m \u001B[1;33m\u001B[0m\u001B[0m\n\u001B[0;32m   2142\u001B[0m     \u001B[1;32mdef\u001B[0m \u001B[0m__or__\u001B[0m\u001B[1;33m(\u001B[0m\u001B[0mself\u001B[0m\u001B[1;33m,\u001B[0m \u001B[0mother\u001B[0m\u001B[1;33m)\u001B[0m\u001B[1;33m:\u001B[0m\u001B[1;33m\u001B[0m\u001B[1;33m\u001B[0m\u001B[0m\n\u001B[1;32m-> 2143\u001B[1;33m         \u001B[1;32mreturn\u001B[0m \u001B[0mself\u001B[0m\u001B[1;33m.\u001B[0m\u001B[0munion\u001B[0m\u001B[1;33m(\u001B[0m\u001B[0mother\u001B[0m\u001B[1;33m)\u001B[0m\u001B[1;33m\u001B[0m\u001B[1;33m\u001B[0m\u001B[0m\n\u001B[0m\u001B[0;32m   2144\u001B[0m \u001B[1;33m\u001B[0m\u001B[0m\n\u001B[0;32m   2145\u001B[0m     \u001B[1;32mdef\u001B[0m \u001B[0m__xor__\u001B[0m\u001B[1;33m(\u001B[0m\u001B[0mself\u001B[0m\u001B[1;33m,\u001B[0m \u001B[0mother\u001B[0m\u001B[1;33m)\u001B[0m\u001B[1;33m:\u001B[0m\u001B[1;33m\u001B[0m\u001B[1;33m\u001B[0m\u001B[0m\n",
      "\u001B[1;32m~\\Anaconda3\\envs\\NCFile\\lib\\site-packages\\pandas\\core\\indexes\\base.py\u001B[0m in \u001B[0;36munion\u001B[1;34m(self, other, sort)\u001B[0m\n\u001B[0;32m   2271\u001B[0m \u001B[1;33m\u001B[0m\u001B[0m\n\u001B[0;32m   2272\u001B[0m         \u001B[1;32mif\u001B[0m \u001B[1;32mnot\u001B[0m \u001B[0mself\u001B[0m\u001B[1;33m.\u001B[0m\u001B[0m_is_compatible_with_other\u001B[0m\u001B[1;33m(\u001B[0m\u001B[0mother\u001B[0m\u001B[1;33m)\u001B[0m\u001B[1;33m:\u001B[0m\u001B[1;33m\u001B[0m\u001B[1;33m\u001B[0m\u001B[0m\n\u001B[1;32m-> 2273\u001B[1;33m             \u001B[1;32mreturn\u001B[0m \u001B[0mself\u001B[0m\u001B[1;33m.\u001B[0m\u001B[0m_union_incompatible_dtypes\u001B[0m\u001B[1;33m(\u001B[0m\u001B[0mother\u001B[0m\u001B[1;33m,\u001B[0m \u001B[0msort\u001B[0m\u001B[1;33m=\u001B[0m\u001B[0msort\u001B[0m\u001B[1;33m)\u001B[0m\u001B[1;33m\u001B[0m\u001B[1;33m\u001B[0m\u001B[0m\n\u001B[0m\u001B[0;32m   2274\u001B[0m \u001B[1;33m\u001B[0m\u001B[0m\n\u001B[0;32m   2275\u001B[0m         \u001B[1;32mreturn\u001B[0m \u001B[0mself\u001B[0m\u001B[1;33m.\u001B[0m\u001B[0m_union\u001B[0m\u001B[1;33m(\u001B[0m\u001B[0mother\u001B[0m\u001B[1;33m,\u001B[0m \u001B[0msort\u001B[0m\u001B[1;33m=\u001B[0m\u001B[0msort\u001B[0m\u001B[1;33m)\u001B[0m\u001B[1;33m\u001B[0m\u001B[1;33m\u001B[0m\u001B[0m\n",
      "\u001B[1;32m~\\Anaconda3\\envs\\NCFile\\lib\\site-packages\\pandas\\core\\indexes\\base.py\u001B[0m in \u001B[0;36m_union_incompatible_dtypes\u001B[1;34m(self, other, sort)\u001B[0m\n\u001B[0;32m   2190\u001B[0m         \u001B[1;31m# cast to Index for when `other` is list-like\u001B[0m\u001B[1;33m\u001B[0m\u001B[1;33m\u001B[0m\u001B[1;33m\u001B[0m\u001B[0m\n\u001B[0;32m   2191\u001B[0m         \u001B[0mother\u001B[0m \u001B[1;33m=\u001B[0m \u001B[0mIndex\u001B[0m\u001B[1;33m(\u001B[0m\u001B[0mother\u001B[0m\u001B[1;33m)\u001B[0m\u001B[1;33m.\u001B[0m\u001B[0mastype\u001B[0m\u001B[1;33m(\u001B[0m\u001B[0mobject\u001B[0m\u001B[1;33m,\u001B[0m \u001B[0mcopy\u001B[0m\u001B[1;33m=\u001B[0m\u001B[1;32mFalse\u001B[0m\u001B[1;33m)\u001B[0m\u001B[1;33m\u001B[0m\u001B[1;33m\u001B[0m\u001B[0m\n\u001B[1;32m-> 2192\u001B[1;33m         \u001B[1;32mreturn\u001B[0m \u001B[0mIndex\u001B[0m\u001B[1;33m.\u001B[0m\u001B[0munion\u001B[0m\u001B[1;33m(\u001B[0m\u001B[0mthis\u001B[0m\u001B[1;33m,\u001B[0m \u001B[0mother\u001B[0m\u001B[1;33m,\u001B[0m \u001B[0msort\u001B[0m\u001B[1;33m=\u001B[0m\u001B[0msort\u001B[0m\u001B[1;33m)\u001B[0m\u001B[1;33m.\u001B[0m\u001B[0mastype\u001B[0m\u001B[1;33m(\u001B[0m\u001B[0mobject\u001B[0m\u001B[1;33m,\u001B[0m \u001B[0mcopy\u001B[0m\u001B[1;33m=\u001B[0m\u001B[1;32mFalse\u001B[0m\u001B[1;33m)\u001B[0m\u001B[1;33m\u001B[0m\u001B[1;33m\u001B[0m\u001B[0m\n\u001B[0m\u001B[0;32m   2193\u001B[0m \u001B[1;33m\u001B[0m\u001B[0m\n\u001B[0;32m   2194\u001B[0m     \u001B[1;32mdef\u001B[0m \u001B[0m_is_compatible_with_other\u001B[0m\u001B[1;33m(\u001B[0m\u001B[0mself\u001B[0m\u001B[1;33m,\u001B[0m \u001B[0mother\u001B[0m\u001B[1;33m)\u001B[0m\u001B[1;33m:\u001B[0m\u001B[1;33m\u001B[0m\u001B[1;33m\u001B[0m\u001B[0m\n",
      "\u001B[1;32m~\\Anaconda3\\envs\\NCFile\\lib\\site-packages\\pandas\\core\\indexes\\base.py\u001B[0m in \u001B[0;36munion\u001B[1;34m(self, other, sort)\u001B[0m\n\u001B[0;32m   2273\u001B[0m             \u001B[1;32mreturn\u001B[0m \u001B[0mself\u001B[0m\u001B[1;33m.\u001B[0m\u001B[0m_union_incompatible_dtypes\u001B[0m\u001B[1;33m(\u001B[0m\u001B[0mother\u001B[0m\u001B[1;33m,\u001B[0m \u001B[0msort\u001B[0m\u001B[1;33m=\u001B[0m\u001B[0msort\u001B[0m\u001B[1;33m)\u001B[0m\u001B[1;33m\u001B[0m\u001B[1;33m\u001B[0m\u001B[0m\n\u001B[0;32m   2274\u001B[0m \u001B[1;33m\u001B[0m\u001B[0m\n\u001B[1;32m-> 2275\u001B[1;33m         \u001B[1;32mreturn\u001B[0m \u001B[0mself\u001B[0m\u001B[1;33m.\u001B[0m\u001B[0m_union\u001B[0m\u001B[1;33m(\u001B[0m\u001B[0mother\u001B[0m\u001B[1;33m,\u001B[0m \u001B[0msort\u001B[0m\u001B[1;33m=\u001B[0m\u001B[0msort\u001B[0m\u001B[1;33m)\u001B[0m\u001B[1;33m\u001B[0m\u001B[1;33m\u001B[0m\u001B[0m\n\u001B[0m\u001B[0;32m   2276\u001B[0m \u001B[1;33m\u001B[0m\u001B[0m\n\u001B[0;32m   2277\u001B[0m     \u001B[1;32mdef\u001B[0m \u001B[0m_union\u001B[0m\u001B[1;33m(\u001B[0m\u001B[0mself\u001B[0m\u001B[1;33m,\u001B[0m \u001B[0mother\u001B[0m\u001B[1;33m,\u001B[0m \u001B[0msort\u001B[0m\u001B[1;33m)\u001B[0m\u001B[1;33m:\u001B[0m\u001B[1;33m\u001B[0m\u001B[1;33m\u001B[0m\u001B[0m\n",
      "\u001B[1;32m~\\Anaconda3\\envs\\NCFile\\lib\\site-packages\\pandas\\core\\indexes\\base.py\u001B[0m in \u001B[0;36m_union\u001B[1;34m(self, other, sort)\u001B[0m\n\u001B[0;32m   2295\u001B[0m         \"\"\"\n\u001B[0;32m   2296\u001B[0m \u001B[1;33m\u001B[0m\u001B[0m\n\u001B[1;32m-> 2297\u001B[1;33m         \u001B[1;32mif\u001B[0m \u001B[1;32mnot\u001B[0m \u001B[0mlen\u001B[0m\u001B[1;33m(\u001B[0m\u001B[0mother\u001B[0m\u001B[1;33m)\u001B[0m \u001B[1;32mor\u001B[0m \u001B[0mself\u001B[0m\u001B[1;33m.\u001B[0m\u001B[0mequals\u001B[0m\u001B[1;33m(\u001B[0m\u001B[0mother\u001B[0m\u001B[1;33m)\u001B[0m\u001B[1;33m:\u001B[0m\u001B[1;33m\u001B[0m\u001B[1;33m\u001B[0m\u001B[0m\n\u001B[0m\u001B[0;32m   2298\u001B[0m             \u001B[1;32mreturn\u001B[0m \u001B[0mself\u001B[0m\u001B[1;33m.\u001B[0m\u001B[0m_get_reconciled_name_object\u001B[0m\u001B[1;33m(\u001B[0m\u001B[0mother\u001B[0m\u001B[1;33m)\u001B[0m\u001B[1;33m\u001B[0m\u001B[1;33m\u001B[0m\u001B[0m\n\u001B[0;32m   2299\u001B[0m \u001B[1;33m\u001B[0m\u001B[0m\n",
      "\u001B[1;32m~\\Anaconda3\\envs\\NCFile\\lib\\site-packages\\pandas\\core\\indexes\\base.py\u001B[0m in \u001B[0;36mequals\u001B[1;34m(self, other)\u001B[0m\n\u001B[0;32m   4072\u001B[0m \u001B[1;33m\u001B[0m\u001B[0m\n\u001B[0;32m   4073\u001B[0m         return array_equivalent(\n\u001B[1;32m-> 4074\u001B[1;33m             \u001B[0mcom\u001B[0m\u001B[1;33m.\u001B[0m\u001B[0mvalues_from_object\u001B[0m\u001B[1;33m(\u001B[0m\u001B[0mself\u001B[0m\u001B[1;33m)\u001B[0m\u001B[1;33m,\u001B[0m \u001B[0mcom\u001B[0m\u001B[1;33m.\u001B[0m\u001B[0mvalues_from_object\u001B[0m\u001B[1;33m(\u001B[0m\u001B[0mother\u001B[0m\u001B[1;33m)\u001B[0m\u001B[1;33m\u001B[0m\u001B[1;33m\u001B[0m\u001B[0m\n\u001B[0m\u001B[0;32m   4075\u001B[0m         )\n\u001B[0;32m   4076\u001B[0m \u001B[1;33m\u001B[0m\u001B[0m\n",
      "\u001B[1;32m~\\Anaconda3\\envs\\NCFile\\lib\\site-packages\\pandas\\core\\dtypes\\missing.py\u001B[0m in \u001B[0;36marray_equivalent\u001B[1;34m(left, right, strict_nan)\u001B[0m\n\u001B[0;32m    444\u001B[0m             \u001B[1;31m# isna considers NaN and None to be equivalent.\u001B[0m\u001B[1;33m\u001B[0m\u001B[1;33m\u001B[0m\u001B[1;33m\u001B[0m\u001B[0m\n\u001B[0;32m    445\u001B[0m             return lib.array_equivalent_object(\n\u001B[1;32m--> 446\u001B[1;33m                 \u001B[0mensure_object\u001B[0m\u001B[1;33m(\u001B[0m\u001B[0mleft\u001B[0m\u001B[1;33m.\u001B[0m\u001B[0mravel\u001B[0m\u001B[1;33m(\u001B[0m\u001B[1;33m)\u001B[0m\u001B[1;33m)\u001B[0m\u001B[1;33m,\u001B[0m \u001B[0mensure_object\u001B[0m\u001B[1;33m(\u001B[0m\u001B[0mright\u001B[0m\u001B[1;33m.\u001B[0m\u001B[0mravel\u001B[0m\u001B[1;33m(\u001B[0m\u001B[1;33m)\u001B[0m\u001B[1;33m)\u001B[0m\u001B[1;33m\u001B[0m\u001B[1;33m\u001B[0m\u001B[0m\n\u001B[0m\u001B[0;32m    447\u001B[0m             )\n\u001B[0;32m    448\u001B[0m \u001B[1;33m\u001B[0m\u001B[0m\n",
      "\u001B[1;32mpandas\\_libs\\lib.pyx\u001B[0m in \u001B[0;36mpandas._libs.lib.array_equivalent_object\u001B[1;34m()\u001B[0m\n",
      "\u001B[1;32mpandas\\_libs\\lib.pyx\u001B[0m in \u001B[0;36mpandas._libs.lib.array_equivalent_object\u001B[1;34m()\u001B[0m\n",
      "\u001B[1;32mcftime\\_cftime.pyx\u001B[0m in \u001B[0;36mcftime._cftime.datetime.__richcmp__\u001B[1;34m()\u001B[0m\n",
      "\u001B[1;31mTypeError\u001B[0m: cannot compare cftime.DatetimeNoLeap(1998-01-01 12:00:00) and Timestamp('1998-01-01 12:00:00') (different calendars)"
     ]
    }
   ],
   "source": [
    "# ssp245_p = ut.lsdir(Path(r'H:\\CMIP6 - Biased\\tmean\\ssp245'))\n",
    "# ssp585_p = ut.lsdir(Path(r'H:\\CMIP6 - Biased\\tmean\\ssp585'))"
   ],
   "metadata": {
    "collapsed": false,
    "pycharm": {
     "name": "#%%\n"
    }
   }
  },
  {
   "cell_type": "code",
   "execution_count": 5,
   "outputs": [
    {
     "ename": "ValueError",
     "evalue": "conflicting sizes for dimension 'time': length 6205 on <this-array> and length 204 on 'time'",
     "output_type": "error",
     "traceback": [
      "\u001B[1;31m---------------------------------------------------------------------------\u001B[0m",
      "\u001B[1;31mValueError\u001B[0m                                Traceback (most recent call last)",
      "\u001B[1;32m<ipython-input-5-981818f6ee6c>\u001B[0m in \u001B[0;36m<module>\u001B[1;34m\u001B[0m\n\u001B[0;32m      9\u001B[0m \u001B[0mmf\u001B[0m \u001B[1;33m=\u001B[0m \u001B[1;33m[\u001B[0m\u001B[1;33m]\u001B[0m\u001B[1;33m\u001B[0m\u001B[1;33m\u001B[0m\u001B[0m\n\u001B[0;32m     10\u001B[0m \u001B[1;32mfor\u001B[0m \u001B[0mi\u001B[0m\u001B[1;33m,\u001B[0m \u001B[0mp\u001B[0m \u001B[1;32min\u001B[0m \u001B[0menumerate\u001B[0m\u001B[1;33m(\u001B[0m\u001B[0mhist_pr\u001B[0m\u001B[1;33m)\u001B[0m\u001B[1;33m:\u001B[0m\u001B[1;33m\u001B[0m\u001B[1;33m\u001B[0m\u001B[0m\n\u001B[1;32m---> 11\u001B[1;33m     \u001B[0mmf\u001B[0m\u001B[1;33m.\u001B[0m\u001B[0mappend\u001B[0m\u001B[1;33m(\u001B[0m\u001B[0mxr\u001B[0m\u001B[1;33m.\u001B[0m\u001B[0mopen_dataarray\u001B[0m\u001B[1;33m(\u001B[0m\u001B[0mp\u001B[0m\u001B[1;33m)\u001B[0m\u001B[1;33m.\u001B[0m\u001B[0massign_coords\u001B[0m\u001B[1;33m(\u001B[0m\u001B[0mid\u001B[0m\u001B[1;33m=\u001B[0m\u001B[0mi\u001B[0m\u001B[1;33m,\u001B[0m \u001B[0mtime\u001B[0m\u001B[1;33m=\u001B[0m\u001B[0mpd\u001B[0m\u001B[1;33m.\u001B[0m\u001B[0mdate_range\u001B[0m\u001B[1;33m(\u001B[0m\u001B[1;34m'1998-01-01'\u001B[0m\u001B[1;33m,\u001B[0m \u001B[1;34m'2014-12-01'\u001B[0m\u001B[1;33m,\u001B[0m \u001B[0mfreq\u001B[0m\u001B[1;33m=\u001B[0m\u001B[1;34m'MS'\u001B[0m\u001B[1;33m)\u001B[0m\u001B[1;33m)\u001B[0m\u001B[1;33m)\u001B[0m\u001B[1;33m\u001B[0m\u001B[1;33m\u001B[0m\u001B[0m\n\u001B[0m\u001B[0;32m     12\u001B[0m \u001B[0mhist\u001B[0m \u001B[1;33m=\u001B[0m \u001B[0mxr\u001B[0m\u001B[1;33m.\u001B[0m\u001B[0mconcat\u001B[0m\u001B[1;33m(\u001B[0m\u001B[0mmf\u001B[0m\u001B[1;33m,\u001B[0m \u001B[0mdim\u001B[0m\u001B[1;33m=\u001B[0m\u001B[1;34m'id'\u001B[0m\u001B[1;33m)\u001B[0m\u001B[1;33m\u001B[0m\u001B[1;33m\u001B[0m\u001B[0m\n\u001B[0;32m     13\u001B[0m \u001B[1;33m\u001B[0m\u001B[0m\n",
      "\u001B[1;32m~\\Anaconda3\\envs\\NCFile\\lib\\site-packages\\xarray\\core\\common.py\u001B[0m in \u001B[0;36massign_coords\u001B[1;34m(self, coords, **coords_kwargs)\u001B[0m\n\u001B[0;32m    470\u001B[0m         \u001B[0mdata\u001B[0m \u001B[1;33m=\u001B[0m \u001B[0mself\u001B[0m\u001B[1;33m.\u001B[0m\u001B[0mcopy\u001B[0m\u001B[1;33m(\u001B[0m\u001B[0mdeep\u001B[0m\u001B[1;33m=\u001B[0m\u001B[1;32mFalse\u001B[0m\u001B[1;33m)\u001B[0m\u001B[1;33m\u001B[0m\u001B[1;33m\u001B[0m\u001B[0m\n\u001B[0;32m    471\u001B[0m         \u001B[0mresults\u001B[0m \u001B[1;33m=\u001B[0m \u001B[0mself\u001B[0m\u001B[1;33m.\u001B[0m\u001B[0m_calc_assign_results\u001B[0m\u001B[1;33m(\u001B[0m\u001B[0mcoords_kwargs\u001B[0m\u001B[1;33m)\u001B[0m\u001B[1;33m\u001B[0m\u001B[1;33m\u001B[0m\u001B[0m\n\u001B[1;32m--> 472\u001B[1;33m         \u001B[0mdata\u001B[0m\u001B[1;33m.\u001B[0m\u001B[0mcoords\u001B[0m\u001B[1;33m.\u001B[0m\u001B[0mupdate\u001B[0m\u001B[1;33m(\u001B[0m\u001B[0mresults\u001B[0m\u001B[1;33m)\u001B[0m\u001B[1;33m\u001B[0m\u001B[1;33m\u001B[0m\u001B[0m\n\u001B[0m\u001B[0;32m    473\u001B[0m         \u001B[1;32mreturn\u001B[0m \u001B[0mdata\u001B[0m\u001B[1;33m\u001B[0m\u001B[1;33m\u001B[0m\u001B[0m\n\u001B[0;32m    474\u001B[0m \u001B[1;33m\u001B[0m\u001B[0m\n",
      "\u001B[1;32m~\\Anaconda3\\envs\\NCFile\\lib\\site-packages\\xarray\\core\\coordinates.py\u001B[0m in \u001B[0;36mupdate\u001B[1;34m(self, other)\u001B[0m\n\u001B[0;32m    116\u001B[0m             \u001B[1;33m[\u001B[0m\u001B[0mself\u001B[0m\u001B[1;33m.\u001B[0m\u001B[0mvariables\u001B[0m\u001B[1;33m,\u001B[0m \u001B[0mother_vars\u001B[0m\u001B[1;33m]\u001B[0m\u001B[1;33m,\u001B[0m \u001B[0mpriority_arg\u001B[0m\u001B[1;33m=\u001B[0m\u001B[1;36m1\u001B[0m\u001B[1;33m,\u001B[0m \u001B[0mindexes\u001B[0m\u001B[1;33m=\u001B[0m\u001B[0mself\u001B[0m\u001B[1;33m.\u001B[0m\u001B[0mindexes\u001B[0m\u001B[1;33m\u001B[0m\u001B[1;33m\u001B[0m\u001B[0m\n\u001B[0;32m    117\u001B[0m         )\n\u001B[1;32m--> 118\u001B[1;33m         \u001B[0mself\u001B[0m\u001B[1;33m.\u001B[0m\u001B[0m_update_coords\u001B[0m\u001B[1;33m(\u001B[0m\u001B[0mcoords\u001B[0m\u001B[1;33m,\u001B[0m \u001B[0mindexes\u001B[0m\u001B[1;33m)\u001B[0m\u001B[1;33m\u001B[0m\u001B[1;33m\u001B[0m\u001B[0m\n\u001B[0m\u001B[0;32m    119\u001B[0m \u001B[1;33m\u001B[0m\u001B[0m\n\u001B[0;32m    120\u001B[0m     \u001B[1;32mdef\u001B[0m \u001B[0m_merge_raw\u001B[0m\u001B[1;33m(\u001B[0m\u001B[0mself\u001B[0m\u001B[1;33m,\u001B[0m \u001B[0mother\u001B[0m\u001B[1;33m)\u001B[0m\u001B[1;33m:\u001B[0m\u001B[1;33m\u001B[0m\u001B[1;33m\u001B[0m\u001B[0m\n",
      "\u001B[1;32m~\\Anaconda3\\envs\\NCFile\\lib\\site-packages\\xarray\\core\\coordinates.py\u001B[0m in \u001B[0;36m_update_coords\u001B[1;34m(self, coords, indexes)\u001B[0m\n\u001B[0;32m    290\u001B[0m         \u001B[0mcoords_plus_data\u001B[0m \u001B[1;33m=\u001B[0m \u001B[0mcoords\u001B[0m\u001B[1;33m.\u001B[0m\u001B[0mcopy\u001B[0m\u001B[1;33m(\u001B[0m\u001B[1;33m)\u001B[0m\u001B[1;33m\u001B[0m\u001B[1;33m\u001B[0m\u001B[0m\n\u001B[0;32m    291\u001B[0m         \u001B[0mcoords_plus_data\u001B[0m\u001B[1;33m[\u001B[0m\u001B[0m_THIS_ARRAY\u001B[0m\u001B[1;33m]\u001B[0m \u001B[1;33m=\u001B[0m \u001B[0mself\u001B[0m\u001B[1;33m.\u001B[0m\u001B[0m_data\u001B[0m\u001B[1;33m.\u001B[0m\u001B[0mvariable\u001B[0m\u001B[1;33m\u001B[0m\u001B[1;33m\u001B[0m\u001B[0m\n\u001B[1;32m--> 292\u001B[1;33m         \u001B[0mdims\u001B[0m \u001B[1;33m=\u001B[0m \u001B[0mcalculate_dimensions\u001B[0m\u001B[1;33m(\u001B[0m\u001B[0mcoords_plus_data\u001B[0m\u001B[1;33m)\u001B[0m\u001B[1;33m\u001B[0m\u001B[1;33m\u001B[0m\u001B[0m\n\u001B[0m\u001B[0;32m    293\u001B[0m         \u001B[1;32mif\u001B[0m \u001B[1;32mnot\u001B[0m \u001B[0mset\u001B[0m\u001B[1;33m(\u001B[0m\u001B[0mdims\u001B[0m\u001B[1;33m)\u001B[0m \u001B[1;33m<=\u001B[0m \u001B[0mset\u001B[0m\u001B[1;33m(\u001B[0m\u001B[0mself\u001B[0m\u001B[1;33m.\u001B[0m\u001B[0mdims\u001B[0m\u001B[1;33m)\u001B[0m\u001B[1;33m:\u001B[0m\u001B[1;33m\u001B[0m\u001B[1;33m\u001B[0m\u001B[0m\n\u001B[0;32m    294\u001B[0m             raise ValueError(\n",
      "\u001B[1;32m~\\Anaconda3\\envs\\NCFile\\lib\\site-packages\\xarray\\core\\dataset.py\u001B[0m in \u001B[0;36mcalculate_dimensions\u001B[1;34m(variables)\u001B[0m\n\u001B[0;32m    207\u001B[0m                     \u001B[1;34m\"conflicting sizes for dimension %r: \"\u001B[0m\u001B[1;33m\u001B[0m\u001B[1;33m\u001B[0m\u001B[0m\n\u001B[0;32m    208\u001B[0m                     \u001B[1;34m\"length %s on %r and length %s on %r\"\u001B[0m\u001B[1;33m\u001B[0m\u001B[1;33m\u001B[0m\u001B[0m\n\u001B[1;32m--> 209\u001B[1;33m                     \u001B[1;33m%\u001B[0m \u001B[1;33m(\u001B[0m\u001B[0mdim\u001B[0m\u001B[1;33m,\u001B[0m \u001B[0msize\u001B[0m\u001B[1;33m,\u001B[0m \u001B[0mk\u001B[0m\u001B[1;33m,\u001B[0m \u001B[0mdims\u001B[0m\u001B[1;33m[\u001B[0m\u001B[0mdim\u001B[0m\u001B[1;33m]\u001B[0m\u001B[1;33m,\u001B[0m \u001B[0mlast_used\u001B[0m\u001B[1;33m[\u001B[0m\u001B[0mdim\u001B[0m\u001B[1;33m]\u001B[0m\u001B[1;33m)\u001B[0m\u001B[1;33m\u001B[0m\u001B[1;33m\u001B[0m\u001B[0m\n\u001B[0m\u001B[0;32m    210\u001B[0m                 )\n\u001B[0;32m    211\u001B[0m     \u001B[1;32mreturn\u001B[0m \u001B[0mdims\u001B[0m\u001B[1;33m\u001B[0m\u001B[1;33m\u001B[0m\u001B[0m\n",
      "\u001B[1;31mValueError\u001B[0m: conflicting sizes for dimension 'time': length 6205 on <this-array> and length 204 on 'time'"
     ]
    }
   ],
   "source": [
    "hist_pr = ut.lsdir(r'H:\\CMIP6 - SEA\\Cleaned\\historical\\decode_cmip_pr_hist_1998_2014_noleap')\n",
    "ssp245_pr = ut.lsdir(r'H:\\CMIP6 - SEA\\Cleaned\\ssp245\\decode_cmip_pr_ssp245_2015_2100_noleap')\n",
    "ssp585_pr = ut.lsdir(r'H:\\CMIP6 - SEA\\Cleaned\\ssp585\\decode_cmip_pr_ssp585_2015_2100_noleap')\n",
    "\n",
    "# hist = ut.get_mfds(hist_pr)\n",
    "# ssp245 = ut.get_mfds(ssp245_pr)\n",
    "# ssp585 = ut.get_mfds(ssp585_pr)\n",
    "\n",
    "mf = []\n",
    "for i, p in enumerate(hist_pr):\n",
    "    mf.append(xr.open_dataarray(p).assign_coords(id=i, time=pd.date_range('1998-01-01', '2014-12-01', freq='MS')))\n",
    "hist = xr.concat(mf, dim='id')\n",
    "\n",
    "mf = []\n",
    "for i, p in enumerate(ssp245_pr):\n",
    "    mf.append(xr.open_dataarray(p).assign_coords(id=i, time=pd.date_range('2015-01-01', '2100-12-01', freq='MS')))\n",
    "ssp245 = xr.concat(mf, dim='id')\n",
    "\n",
    "mf = []\n",
    "for i, p in enumerate(ssp585_pr):\n",
    "    mf.append(xr.open_dataarray(p).assign_coords(id=i, time=pd.date_range('2015-01-01', '2100-12-01', freq='MS')))\n",
    "ssp585 = xr.concat(mf, dim='id')\n"
   ],
   "metadata": {
    "collapsed": false,
    "pycharm": {
     "name": "#%%\n"
    }
   }
  },
  {
   "cell_type": "code",
   "execution_count": null,
   "outputs": [],
   "source": [
    "def diff_tmean(model, obs):\n",
    "    return model - obs\n",
    "\n",
    "\n",
    "def diff_pr(model, obs):\n",
    "    return (model - obs) / obs * 100\n",
    "\n",
    "hist_y = hist.resample(time='AS').sum(skipna=False)\n",
    "ssp245_y = ssp245.resample(time='AS').sum(skipna=False)\n",
    "ssp585_y = ssp585.resample(time='AS').sum(skipna=False)\n",
    "\n",
    "hist_mean = hist_y.mean(dim=['lat', 'lon'])\n",
    "ssp245_mean = ssp245_y.mean(dim=['lat', 'lon'])\n",
    "ssp585_mean = ssp585_y.mean(dim=['lat', 'lon'])\n",
    "\n",
    "hist_mean_id = hist_mean.mean(dim='id')\n",
    "ssp245_mean_id = ssp245_mean.mean(dim='id')\n",
    "ssp585_mean_id = ssp585_mean.mean(dim='id')"
   ],
   "metadata": {
    "collapsed": false,
    "pycharm": {
     "name": "#%%\n"
    }
   }
  },
  {
   "cell_type": "code",
   "execution_count": null,
   "outputs": [],
   "source": [
    "ax = plt.axes()\n",
    "ssp245_mean.plot(ax=ax, color='purple')\n",
    "ssp585_mean.plot(ax=ax, color='red')\n",
    "plt.xlabel('Year')\n",
    "# plt.ylabel('ΔTmean (°C)')\n",
    "plt.ylabel('ΔPmean (%)')\n",
    "\n",
    "ax.fill_between(ssp245_mean.time, ssp245_mean.max(dim='id'), ssp245_mean.min(dim='id'), facecolor='violet', alpha=0.5)\n",
    "ax.fill_between(ssp585_mean.time, ssp585_mean.max(dim='id'), ssp585_mean.min(dim='id'), facecolor='red', alpha=0.3)\n",
    "plt.show()"
   ],
   "metadata": {
    "collapsed": false,
    "pycharm": {
     "name": "#%%\n"
    }
   }
  },
  {
   "cell_type": "code",
   "execution_count": null,
   "outputs": [],
   "source": [
    "diff_map_hist =\n",
    "diff_map_245 = diff_pr(ssp245_y, cru_mean)\n",
    "diff_map_585 = diff_pr(ssp585_y, cru_mean)\n",
    "\n",
    "diff_map_245_mme = diff_map_245.mean(dim='id')\n",
    "diff_map_585_mme = diff_map_585.mean(dim='id')\n",
    "\n",
    "diff_245 = diff_map_245.mean(dim=['lat', 'lon'])\n",
    "diff_585 = diff_map_585.mean(dim=['lat', 'lon'])\n",
    "\n",
    "# %%\n",
    "near_245 = ut.select_year(diff_map_245_mme, 2015, 2039)\n",
    "mid_245 = ut.select_year(diff_map_245_mme, 2040, 2069)\n",
    "far_245 = ut.select_year(diff_map_245_mme, 2070, 2099)\n",
    "\n",
    "near_585 = ut.select_year(diff_map_585_mme, 2015, 2039)\n",
    "mid_585 = ut.select_year(diff_map_585_mme, 2040, 2069)\n",
    "far_585 = ut.select_year(diff_map_585_mme, 2070, 2099)\n",
    "# %%\n",
    "da_ls = [near_245, mid_245, far_245, near_585, mid_585, far_585]\n",
    "names = [\n",
    "    'SSP2-4.5 (Near-future)',\n",
    "    'SSP2-4.5 (Mid-future)',\n",
    "    'SSP2-4.5 (Far-future)',\n",
    "    'SSP5-8.5 (Near-future)',\n",
    "    'SSP5-8.5 (Mid-future)',\n",
    "    'SSP5-8.5 (Far-future)'\n",
    "]"
   ],
   "metadata": {
    "collapsed": false,
    "pycharm": {
     "name": "#%%\n"
    }
   }
  },
  {
   "cell_type": "code",
   "execution_count": null,
   "outputs": [],
   "source": [
    "new_ds = xr.concat([da.mean(dim='time').assign_coords(name=f'({chr(ord(\"a\") + i)}) {names[i]}') for i, da in enumerate(da_ls)], dim='name')"
   ],
   "metadata": {
    "collapsed": false,
    "pycharm": {
     "name": "#%%\n"
    }
   }
  },
  {
   "cell_type": "code",
   "execution_count": null,
   "outputs": [],
   "source": [
    "# diff_245 = diff_pr(ssp245_mean, cru_mean)\n",
    "# diff_585 = diff_pr(ssp585_mean, cru_mean)\n",
    "\n",
    "diff_245_mean = diff_245.mean(dim='id')\n",
    "diff_585_mean = diff_585.mean(dim='id')"
   ],
   "metadata": {
    "collapsed": false,
    "pycharm": {
     "name": "#%%\n"
    }
   }
  },
  {
   "cell_type": "code",
   "execution_count": null,
   "outputs": [],
   "source": [
    "ax = plt.axes()\n",
    "diff_245_mean.plot(ax=ax, color='purple')\n",
    "diff_585_mean.plot(ax=ax, color='red')\n",
    "plt.xlabel('Year')\n",
    "# plt.ylabel('ΔTmean (°C)')\n",
    "plt.ylabel('ΔPmean (%)')\n",
    "\n",
    "ax.fill_between(diff_245_mean.time, diff_245.max(dim='id'), diff_245.min(dim='id'), facecolor='violet', alpha=0.5)\n",
    "ax.fill_between(diff_585_mean.time, diff_585.max(dim='id'), diff_585.min(dim='id'), facecolor='red', alpha=0.3)\n",
    "plt.show()"
   ],
   "metadata": {
    "collapsed": false,
    "pycharm": {
     "name": "#%%\n"
    }
   }
  },
  {
   "cell_type": "code",
   "execution_count": null,
   "outputs": [],
   "source": [
    "from matplotlib import rcParams\n",
    "\n",
    "rcParams['font.family'] = 'serif'\n",
    "rcParams['font.serif'] = ['Times New Roman']\n",
    "rcParams['font.size'] = 12"
   ],
   "metadata": {
    "collapsed": false,
    "pycharm": {
     "name": "#%%\n"
    }
   }
  },
  {
   "cell_type": "code",
   "execution_count": null,
   "outputs": [],
   "source": [
    "import matplotlib.pyplot as plt\n",
    "import util.preprocess as pre\n",
    "from distributed.deploy.old_ssh import bcolors\n",
    "from matplotlib.axes import Axes\n",
    "from cartopy.mpl.geoaxes import GeoAxes\n",
    "import cartopy.crs as ccrs\n",
    "import cartopy.feature as cfeature\n",
    "country_borders = cfeature.NaturalEarthFeature(\n",
    "    category='cultural',\n",
    "    name='admin_0_boundary_lines_land',\n",
    "    scale='50m',\n",
    "    facecolor='none')"
   ],
   "metadata": {
    "collapsed": false,
    "pycharm": {
     "name": "#%%\n"
    }
   }
  },
  {
   "cell_type": "code",
   "execution_count": null,
   "outputs": [],
   "source": [
    "def mf_plot(ds, levels=None):\n",
    "    size = 23\n",
    "    p = ds.plot(col='name', col_wrap=3,\n",
    "                # cmap='jet',\n",
    "                transform=ccrs.PlateCarree(),\n",
    "                aspect=1,\n",
    "                figsize=[2*x for x in plt.rcParams[\"figure.figsize\"]],\n",
    "                # levels=levels,\n",
    "                cbar_kwargs={\n",
    "                    'spacing': 'proportional',\n",
    "                    'orientation': 'horizontal',\n",
    "                    'shrink': 0.6,\n",
    "                    'label': '',\n",
    "                    'aspect': 40,\n",
    "                    'anchor': (0.5, 1.7),\n",
    "                },\n",
    "                subplot_kws={\n",
    "                    'projection': ccrs.PlateCarree()\n",
    "                },\n",
    "                )\n",
    "    for i, ax in enumerate(p.axes.flat):\n",
    "        ax.set_title(ds['name'].values[i])\n",
    "        ax.coastlines()\n",
    "        ax.add_feature(country_borders, edgecolor='darkgray')\n",
    "        ax.set_extent([92.5, 142.5, -12.5, 24.5], crs=ccrs.PlateCarree())\n",
    "\n",
    "    plt.show()\n",
    "    plt.clf()\n",
    "    plt.close()\n",
    "mf_plot(new_ds)"
   ],
   "metadata": {
    "collapsed": false,
    "pycharm": {
     "name": "#%%\n"
    }
   }
  }
 ],
 "metadata": {
  "kernelspec": {
   "display_name": "Python 3",
   "language": "python",
   "name": "python3"
  },
  "language_info": {
   "codemirror_mode": {
    "name": "ipython",
    "version": 2
   },
   "file_extension": ".py",
   "mimetype": "text/x-python",
   "name": "python",
   "nbconvert_exporter": "python",
   "pygments_lexer": "ipython2",
   "version": "2.7.6"
  }
 },
 "nbformat": 4,
 "nbformat_minor": 0
}